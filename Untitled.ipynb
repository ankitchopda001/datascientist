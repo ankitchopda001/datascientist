{
 "cells": [
  {
   "cell_type": "code",
   "execution_count": 1,
   "id": "87dd2d0f-32ed-4077-b0fa-d7efa01bb6da",
   "metadata": {},
   "outputs": [],
   "source": [
    "num1 =int(input(\"Enter the number:\")\n",
    "print(num1)\n",
    "\n",
    "import random \n",
    "num=random.randint(1,100)\n",
    "print(\"Random number is:\",num)\n",
    "\n",
    "if num ==num1:\n",
    "    print(\"You are correct\")\n",
    "else :\n",
    "    print(\"You are \")\n"
   ]
  },
  {
   "cell_type": "code",
   "execution_count": null,
   "id": "f4d668f1-9162-4fa5-a0fc-cd77e4f76e5b",
   "metadata": {},
   "outputs": [],
   "source": []
  }
 ],
 "metadata": {
  "kernelspec": {
   "display_name": "Python [conda env:base] *",
   "language": "python",
   "name": "conda-base-py"
  },
  "language_info": {
   "codemirror_mode": {
    "name": "ipython",
    "version": 3
   },
   "file_extension": ".py",
   "mimetype": "text/x-python",
   "name": "python",
   "nbconvert_exporter": "python",
   "pygments_lexer": "ipython3",
   "version": "3.12.7"
  }
 },
 "nbformat": 4,
 "nbformat_minor": 5
}
